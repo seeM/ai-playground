{
 "cells": [
  {
   "cell_type": "markdown",
   "id": "b0698a55",
   "metadata": {},
   "source": [
    "# Bluebook for Bulldozers"
   ]
  },
  {
   "cell_type": "code",
   "execution_count": 1,
   "id": "ff6c67cf",
   "metadata": {},
   "outputs": [],
   "source": [
    "from fastai.tabular.all import *\n",
    "from fastbook import *\n",
    "from sklearn.ensemble import RandomForestRegressor"
   ]
  },
  {
   "cell_type": "markdown",
   "id": "54b6f37b",
   "metadata": {},
   "source": [
    "## Download the dataset"
   ]
  },
  {
   "cell_type": "code",
   "execution_count": 2,
   "id": "3951f0f6",
   "metadata": {},
   "outputs": [],
   "source": [
    "# TODO: Consider making a tiny fastkaggle package - or putting it in fastcore.\n",
    "# that essentially does this, and allows you to copy pasta your username and api key."
   ]
  },
  {
   "cell_type": "markdown",
   "id": "e9404e3f",
   "metadata": {},
   "source": [
    "Before we get started, ensure that your Kaggle API credentials file exists in the expected place:"
   ]
  },
  {
   "cell_type": "code",
   "execution_count": 3,
   "id": "088ed498",
   "metadata": {},
   "outputs": [],
   "source": [
    "assert Path('~/.kaggle/kaggle.json').expanduser().exists()"
   ]
  },
  {
   "cell_type": "markdown",
   "id": "f0ae801f",
   "metadata": {},
   "source": [
    "If the above cell fails, you'll need to create a credentials file manually at `~/.kaggle/kaggle.json` with contents:\n",
    "\n",
    "```json\n",
    "{\"username\":\"user\",\"key\":\"12345\"}\n",
    "```\n",
    "\n",
    "replacing `user` with your Kaggle username and `12345` with an API key. An actual key will be much longer and contain both letters and numbers.\n",
    "\n",
    "If you don't have a key, you can get one by creating an API token on the Kaggle website. Go to https://www.kaggle.com, click on your profile icon in the top-right, click _Account_, scroll down to the _API_ section, and click _Create New API token_. This will download a `kaggle.json` file which looks like the above. Finally, move the token file to `~/.kaggle/kaggle.json` and rerun the previous cell to ensure that it's in the right place."
   ]
  },
  {
   "cell_type": "markdown",
   "id": "8044caec",
   "metadata": {},
   "source": [
    "Download the dataset using the Kaggle API client:"
   ]
  },
  {
   "cell_type": "code",
   "execution_count": 4,
   "id": "7a195f6a",
   "metadata": {},
   "outputs": [
    {
     "data": {
      "text/plain": [
       "Path('/Users/seem/.fastai/archive/bluebook-for-bulldozers')"
      ]
     },
     "execution_count": 4,
     "metadata": {},
     "output_type": "execute_result"
    }
   ],
   "source": [
    "comp = 'bluebook-for-bulldozers'\n",
    "path = URLs.path(comp)\n",
    "path"
   ]
  },
  {
   "cell_type": "markdown",
   "id": "4c6041a5",
   "metadata": {},
   "source": [
    "Extract the contents of the downloaded archive:"
   ]
  },
  {
   "cell_type": "code",
   "execution_count": 5,
   "id": "1f1294f6",
   "metadata": {},
   "outputs": [],
   "source": [
    "#A little trick to display paths relative to the data directory, for convenience\n",
    "Path.BASE_PATH = path"
   ]
  },
  {
   "cell_type": "code",
   "execution_count": 6,
   "id": "a5c3ce2a",
   "metadata": {},
   "outputs": [
    {
     "data": {
      "text/plain": [
       "(#7) [Path('random_forest_benchmark_test.csv'),Path('Valid.csv'),Path('median_benchmark.csv'),Path('Test.csv'),Path('ValidSolution.csv'),Path('Machine_Appendix.csv'),Path('TrainAndValid.csv')]"
      ]
     },
     "execution_count": 6,
     "metadata": {},
     "output_type": "execute_result"
    }
   ],
   "source": [
    "if not path.exists() or not path.ls(file_type='text'):\n",
    "    path.mkdir(parents=true)\n",
    "    api.competition_download_cli(comp, path=path)\n",
    "    shutil.unpack_archive(str(path/f'{comp}.zip'), str(path))\n",
    "path.ls(file_type='text')"
   ]
  },
  {
   "cell_type": "markdown",
   "id": "2774506f",
   "metadata": {},
   "source": [
    "Read the dataset to a pandas dataframe:"
   ]
  },
  {
   "cell_type": "markdown",
   "id": "73186514",
   "metadata": {},
   "source": [
    "## Features"
   ]
  },
  {
   "cell_type": "markdown",
   "id": "30d349ac",
   "metadata": {},
   "source": [
    "TODO: Could `tabular_learner` also provide default `procs` that work 90% of the time?"
   ]
  },
  {
   "cell_type": "code",
   "execution_count": 186,
   "id": "f1245a8f",
   "metadata": {},
   "outputs": [],
   "source": [
    "def make_dates(df):\n",
    "    for c in df:\n",
    "        #Assume that numeric cols are not datetime, even though they could be in UNIX format\n",
    "        if np.issubdtype(df[c].dtype,np.number) or np.issubdtype(df[c],bool): continue\n",
    "        try: make_date(df, c)\n",
    "        #except (TypeError, pd.errors.ParserError, ParserError, ValueError): pass\n",
    "        except ValueError: pass"
   ]
  },
  {
   "cell_type": "code",
   "execution_count": 187,
   "id": "18198eef",
   "metadata": {},
   "outputs": [],
   "source": [
    "def cont_cat_date_split(df, max_card=20, dep_var=None):\n",
    "    cont_names, cat_names, date_names = [], [], []\n",
    "    for label in df:\n",
    "        if label in L(dep_var): continue\n",
    "        if ((pd.api.types.is_integer_dtype(df[label].dtype) and\n",
    "            df[label].unique().shape[0] > max_card) or\n",
    "            pd.api.types.is_float_dtype(df[label].dtype)):\n",
    "            cont_names.append(label)\n",
    "        elif np.issubdtype(df[label].dtype,np.datetime64): date_names.append(label)\n",
    "        else: cat_names.append(label)\n",
    "    return cont_names,cat_names,date_names"
   ]
  },
  {
   "cell_type": "code",
   "execution_count": 234,
   "id": "e03d1485",
   "metadata": {},
   "outputs": [],
   "source": [
    "class AddDatepart(TabularProc):\n",
    "    def __init__(self, prefix=None, drop=True, time=False):\n",
    "        store_attr()\n",
    "        self._add_datepart = partial(add_datepart, **locals())\n",
    "    def encodes(self, to):\n",
    "        for c in to.date_names:\n",
    "            #TODO: add datepart cols to cat_names/cont_names...\n",
    "            self._add_datepart(to.items, c)\n",
    "    #def decodes(self, to):\n",
    "    #    if not drop: return self.to.items\n",
    "    #    for c in to.date_names: self._add_datepart(to.items, c)"
   ]
  },
  {
   "cell_type": "code",
   "execution_count": 207,
   "id": "3f638b6e",
   "metadata": {},
   "outputs": [],
   "source": [
    "class MyTabularPandas(TabularPandas):\n",
    "    def __init__(self, *args, date_names=None, **kwargs):\n",
    "        self.date_names = L(date_names)\n",
    "        super().__init__(*args, **kwargs)"
   ]
  },
  {
   "cell_type": "markdown",
   "id": "2f80cf3b",
   "metadata": {},
   "source": [
    "The evaluation metric is RMSLE, so take the log of the output to directly optimise for that instead of MSE. I believe GBMs and NNs can directly optimise for RMSLE instead of indirectly like this? (**TODO: Confirm**)"
   ]
  },
  {
   "cell_type": "markdown",
   "id": "a2feb103",
   "metadata": {},
   "source": [
    "Trade-offs to `add_datepart` as a pre-processing function vs a `TabularProc`:\n",
    "\n",
    "- I'm not sure how likely it is to correctly infer which columns are dates.\n",
    "- Lose the flexibility of deciding how to treat outputs as cont/cat - particularly the dependence on `max_card`.\n",
    "- It's only one additional line of code... Much of a muchness?\n",
    "- Is there benefit to having the decoded datetime?"
   ]
  },
  {
   "cell_type": "code",
   "execution_count": 262,
   "id": "095aa488",
   "metadata": {},
   "outputs": [],
   "source": [
    "df = pd.read_csv(path/'TrainAndValid.csv', low_memory=False)\n",
    "dep_var = 'SalePrice'\n",
    "df[dep_var] = np.log(df[dep_var]) # Random forests can't train directly on rmsle so this gets closer, better acc\n",
    "df = add_datepart(df, 'saledate')\n",
    "cont,cat = cont_cat_split(df, dep_var=dep_var, max_card=1) #TODO: max_card needed?\n",
    "procs = [Categorify, FillMissing, AddDatepart]\n",
    "cond = (df.saleYear<2011) | (df.saleMonth<10)\n",
    "train_idx = df.index[ cond]\n",
    "valid_idx = df.index[~cond]\n",
    "splits = (list(train_idx),list(valid_idx))\n",
    "to = MyTabularPandas(df, procs, cat, cont, date_names=date, y_names=dep_var, splits=splits)"
   ]
  },
  {
   "cell_type": "code",
   "execution_count": 263,
   "id": "b1a3bb99",
   "metadata": {},
   "outputs": [],
   "source": [
    "def r_mse(pred,y): return round(math.sqrt(((pred-y)**2).mean()), 6)\n",
    "def m_rmse(m, xs, y): return r_mse(m.predict(xs), y)"
   ]
  },
  {
   "cell_type": "code",
   "execution_count": 264,
   "id": "80d3d3a7",
   "metadata": {},
   "outputs": [],
   "source": [
    "def rf(xs, y, n_estimators=40, max_samples=200_000,\n",
    "       max_features=0.5, min_samples_leaf=5, **kwargs):\n",
    "    return RandomForestRegressor(n_jobs=-1, n_estimators=n_estimators,\n",
    "        max_samples=max_samples, max_features=max_features,\n",
    "        min_samples_leaf=min_samples_leaf, oob_score=True).fit(xs, y)"
   ]
  },
  {
   "cell_type": "code",
   "execution_count": 260,
   "id": "a97b5a66",
   "metadata": {},
   "outputs": [
    {
     "data": {
      "text/plain": [
       "(0.1714, 0.233854)"
      ]
     },
     "execution_count": 260,
     "metadata": {},
     "output_type": "execute_result"
    }
   ],
   "source": [
    "xs,y = to.train.xs,to.train.y\n",
    "valid_xs,valid_y = to.valid.xs,to.valid.y\n",
    "m = rf(xs, y)\n",
    "m_rmse(m, xs, y), m_rmse(m, valid_xs, valid_y)"
   ]
  },
  {
   "cell_type": "markdown",
   "id": "8485b70b",
   "metadata": {},
   "source": [
    "**TODO:** Can't we use `tabular_learner` here with random forest? Or does it only support NNs?"
   ]
  },
  {
   "cell_type": "code",
   "execution_count": 266,
   "id": "58a1a10c",
   "metadata": {},
   "outputs": [
    {
     "data": {
      "text/plain": [
       "0.217038"
      ]
     },
     "execution_count": 266,
     "metadata": {},
     "output_type": "execute_result"
    }
   ],
   "source": [
    "r_mse(m.oob_prediction_, y)"
   ]
  },
  {
   "cell_type": "markdown",
   "id": "ddcc4f65",
   "metadata": {},
   "source": [
    "## Simplify the model"
   ]
  },
  {
   "cell_type": "code",
   "execution_count": 295,
   "id": "93faf45c",
   "metadata": {},
   "outputs": [],
   "source": [
    "def rf_feat_importance(m, df):\n",
    "    std = np.std([o.feature_importances_ for o in m.estimators_], axis=0)\n",
    "    return pd.DataFrame({'col':df.columns,'imp':m.feature_importances_,'std':std}\n",
    "                       ).sort_values('imp', ascending=False)"
   ]
  },
  {
   "cell_type": "code",
   "execution_count": 296,
   "id": "215e6b72",
   "metadata": {},
   "outputs": [
    {
     "data": {
      "text/html": [
       "<div>\n",
       "<style scoped>\n",
       "    .dataframe tbody tr th:only-of-type {\n",
       "        vertical-align: middle;\n",
       "    }\n",
       "\n",
       "    .dataframe tbody tr th {\n",
       "        vertical-align: top;\n",
       "    }\n",
       "\n",
       "    .dataframe thead th {\n",
       "        text-align: right;\n",
       "    }\n",
       "</style>\n",
       "<table border=\"1\" class=\"dataframe\">\n",
       "  <thead>\n",
       "    <tr style=\"text-align: right;\">\n",
       "      <th></th>\n",
       "      <th>col</th>\n",
       "      <th>imp</th>\n",
       "      <th>std</th>\n",
       "    </tr>\n",
       "  </thead>\n",
       "  <tbody>\n",
       "    <tr>\n",
       "      <th>57</th>\n",
       "      <td>YearMade</td>\n",
       "      <td>0.2015</td>\n",
       "      <td>0.0417</td>\n",
       "    </tr>\n",
       "    <tr>\n",
       "      <th>6</th>\n",
       "      <td>ProductSize</td>\n",
       "      <td>0.1586</td>\n",
       "      <td>0.0587</td>\n",
       "    </tr>\n",
       "    <tr>\n",
       "      <th>12</th>\n",
       "      <td>Enclosure</td>\n",
       "      <td>0.0781</td>\n",
       "      <td>0.0787</td>\n",
       "    </tr>\n",
       "    <tr>\n",
       "      <th>3</th>\n",
       "      <td>fiSecondaryDesc</td>\n",
       "      <td>0.0714</td>\n",
       "      <td>0.0266</td>\n",
       "    </tr>\n",
       "    <tr>\n",
       "      <th>65</th>\n",
       "      <td>saleElapsed</td>\n",
       "      <td>0.0612</td>\n",
       "      <td>0.0064</td>\n",
       "    </tr>\n",
       "    <tr>\n",
       "      <th>1</th>\n",
       "      <td>fiModelDesc</td>\n",
       "      <td>0.0475</td>\n",
       "      <td>0.0290</td>\n",
       "    </tr>\n",
       "    <tr>\n",
       "      <th>7</th>\n",
       "      <td>fiProductClassDesc</td>\n",
       "      <td>0.0469</td>\n",
       "      <td>0.0222</td>\n",
       "    </tr>\n",
       "    <tr>\n",
       "      <th>54</th>\n",
       "      <td>ModelID</td>\n",
       "      <td>0.0461</td>\n",
       "      <td>0.0202</td>\n",
       "    </tr>\n",
       "    <tr>\n",
       "      <th>2</th>\n",
       "      <td>fiBaseModel</td>\n",
       "      <td>0.0383</td>\n",
       "      <td>0.0352</td>\n",
       "    </tr>\n",
       "    <tr>\n",
       "      <th>52</th>\n",
       "      <td>SalesID</td>\n",
       "      <td>0.0305</td>\n",
       "      <td>0.0077</td>\n",
       "    </tr>\n",
       "  </tbody>\n",
       "</table>\n",
       "</div>"
      ],
      "text/plain": [
       "                   col     imp     std\n",
       "57            YearMade  0.2015  0.0417\n",
       "6          ProductSize  0.1586  0.0587\n",
       "12           Enclosure  0.0781  0.0787\n",
       "3      fiSecondaryDesc  0.0714  0.0266\n",
       "65         saleElapsed  0.0612  0.0064\n",
       "1          fiModelDesc  0.0475  0.0290\n",
       "7   fiProductClassDesc  0.0469  0.0222\n",
       "54             ModelID  0.0461  0.0202\n",
       "2          fiBaseModel  0.0383  0.0352\n",
       "52             SalesID  0.0305  0.0077"
      ]
     },
     "execution_count": 296,
     "metadata": {},
     "output_type": "execute_result"
    }
   ],
   "source": [
    "fi = rf_feat_importance(m, xs)\n",
    "fi[:10]"
   ]
  },
  {
   "cell_type": "code",
   "execution_count": 324,
   "id": "c4459d8d",
   "metadata": {},
   "outputs": [],
   "source": [
    "def plot_fi(fi):\n",
    "    cols = len(fi)\n",
    "    figsize = (12, cols/4.3)\n",
    "    fi[:cols][::-1].plot.barh('col', 'imp', yerr='std', figsize=figsize, legend=False,\n",
    "                              xlabel='Column', ylabel='Importance')"
   ]
  },
  {
   "cell_type": "code",
   "execution_count": 325,
   "id": "b6db6af0",
   "metadata": {
    "scrolled": false
   },
   "outputs": [
    {
     "data": {
      "image/png": "[encoded data removed]",
      "text/plain": [
       "<Figure size 864x502.326 with 1 Axes>"
      ]
     },
     "metadata": {
      "needs_background": "light"
     },
     "output_type": "display_data"
    }
   ],
   "source": [
    "plot_fi(fi[:30])"
   ]
  },
  {
   "cell_type": "code",
   "execution_count": 327,
   "id": "262e1940",
   "metadata": {},
   "outputs": [
    {
     "data": {
      "text/plain": [
       "23"
      ]
     },
     "execution_count": 327,
     "metadata": {},
     "output_type": "execute_result"
    }
   ],
   "source": [
    "to_keep = fi[fi.imp>0.005].col\n",
    "len(to_keep)"
   ]
  },
  {
   "cell_type": "code",
   "execution_count": 328,
   "id": "62e26100",
   "metadata": {},
   "outputs": [],
   "source": [
    "xs_imp = xs[to_keep]\n",
    "valid_xs_imp = valid_xs[to_keep]"
   ]
  },
  {
   "cell_type": "code",
   "execution_count": 329,
   "id": "d2773c76",
   "metadata": {},
   "outputs": [],
   "source": [
    "m = rf(xs_imp, y)"
   ]
  },
  {
   "cell_type": "code",
   "execution_count": 330,
   "id": "a274cd6d",
   "metadata": {},
   "outputs": [
    {
     "data": {
      "text/plain": [
       "(0.185387, 0.236907)"
      ]
     },
     "execution_count": 330,
     "metadata": {},
     "output_type": "execute_result"
    }
   ],
   "source": [
    "m_rmse(m, xs_imp, y), m_rmse(m, valid_xs_imp, valid_y)"
   ]
  },
  {
   "cell_type": "code",
   "execution_count": 331,
   "id": "5a925613",
   "metadata": {},
   "outputs": [
    {
     "data": {
      "text/plain": [
       "(66, 23)"
      ]
     },
     "execution_count": 331,
     "metadata": {},
     "output_type": "execute_result"
    }
   ],
   "source": [
    "len(xs.columns), len(xs_imp.columns)"
   ]
  },
  {
   "cell_type": "code",
   "execution_count": 332,
   "id": "c3628cac",
   "metadata": {},
   "outputs": [
    {
     "data": {
      "image/png": "[encoded data removed]",
      "text/plain": [
       "<Figure size 864x385.116 with 1 Axes>"
      ]
     },
     "metadata": {
      "needs_background": "light"
     },
     "output_type": "display_data"
    }
   ],
   "source": [
    "plot_fi(rf_feat_importance(m, xs_imp));"
   ]
  },
  {
   "cell_type": "code",
   "execution_count": 333,
   "id": "6168bb01",
   "metadata": {},
   "outputs": [
    {
     "data": {
      "image/png": "[encoded data removed]",
      "text/plain": [
       "<Figure size 720x432 with 1 Axes>"
      ]
     },
     "metadata": {
      "needs_background": "light"
     },
     "output_type": "display_data"
    }
   ],
   "source": [
    "cluster_columns(xs_imp)"
   ]
  },
  {
   "cell_type": "code",
   "execution_count": 335,
   "id": "c73d0f64",
   "metadata": {},
   "outputs": [],
   "source": [
    "def get_oob(xs): return rf(xs, y, min_samples_leaf=15, max_samples=50_000).oob_score_"
   ]
  },
  {
   "cell_type": "code",
   "execution_count": 336,
   "id": "8d7cd0e2",
   "metadata": {},
   "outputs": [
    {
     "data": {
      "text/plain": [
       "0.8619428309995821"
      ]
     },
     "execution_count": 336,
     "metadata": {},
     "output_type": "execute_result"
    }
   ],
   "source": [
    "get_oob(xs_imp)"
   ]
  },
  {
   "cell_type": "code",
   "execution_count": 343,
   "id": "90da4c64",
   "metadata": {},
   "outputs": [
    {
     "data": {
      "text/plain": [
       "{'saleYear': 0.8611383529538749,\n",
       " 'saleElapsed': 0.855281465766569,\n",
       " 'ProductGroupDesc': 0.8632013272346493,\n",
       " 'ProductGroup': 0.860877953130986,\n",
       " 'fiModelDesc': 0.8617554703843644,\n",
       " 'fiBaseModel': 0.8622419354203698,\n",
       " 'Hydraulics_Flow': 0.8614932859361515,\n",
       " 'Grouser_Tracks': 0.8637554112260678,\n",
       " 'Coupler_System': 0.8599988302666252}"
      ]
     },
     "execution_count": 343,
     "metadata": {},
     "output_type": "execute_result"
    }
   ],
   "source": [
    "{c:get_oob(xs_imp.drop(c, axis=1, errors='ignore')) for c in (\n",
    "    'saleYear', 'saleElapsed', 'ProductGroupDesc','ProductGroup',\n",
    "    'fiModelDesc', 'fiBaseModel',\n",
    "    'Hydraulics_Flow','Grouser_Tracks', 'Coupler_System')}"
   ]
  },
  {
   "cell_type": "code",
   "execution_count": null,
   "id": "c2708445",
   "metadata": {},
   "outputs": [],
   "source": [
    "to_drop = ['saleYear', 'ProductGroupDesc', 'fiBaseModel', 'Grouser_Tracks']\n",
    "get_oob(xs_imp.drop(to_drop, axis=1))"
   ]
  },
  {
   "cell_type": "code",
   "execution_count": null,
   "id": "b1331af7",
   "metadata": {},
   "outputs": [],
   "source": [
    "xs_final = xs_imp.drop(to_drop, axis=1)\n",
    "valid_xs_final = valid_xs_imp.drop(to_drop, axis=1)"
   ]
  },
  {
   "cell_type": "code",
   "execution_count": null,
   "id": "0abf87a7",
   "metadata": {},
   "outputs": [],
   "source": [
    "save_pickle(path/'xs_final.pkl', xs_final)\n",
    "save_pickle(path/'valid_xs_final.pkl', valid_xs_final)"
   ]
  },
  {
   "cell_type": "code",
   "execution_count": null,
   "id": "cd5d8f7b",
   "metadata": {},
   "outputs": [],
   "source": [
    "xs_final = load_pickle(path/'xs_final.pkl')\n",
    "valid_xs_final = load_pickle(path/'valid_xs_final.pkl')"
   ]
  },
  {
   "cell_type": "code",
   "execution_count": null,
   "id": "72200fe1",
   "metadata": {},
   "outputs": [],
   "source": [
    "m = rf(xs_final, y)\n",
    "m_rmse(m, xs_final, y), m_rmse(m, valid_xs_final, valid_y)"
   ]
  },
  {
   "cell_type": "markdown",
   "id": "3fb86683",
   "metadata": {},
   "source": [
    "## Interpret the model"
   ]
  },
  {
   "cell_type": "markdown",
   "id": "c30b989e",
   "metadata": {},
   "source": [
    "### Partial dependence analysis"
   ]
  },
  {
   "cell_type": "code",
   "execution_count": null,
   "id": "ec160a5c",
   "metadata": {},
   "outputs": [],
   "source": [
    "from sklearn.inspection import plot_partial_dependence\n",
    "\n",
    "fig,ax = plt.subplots(figsize=(12, 4))\n",
    "plot_partial_dependence(m, valid_xs_final, ['YearMade','ProductSize'],\n",
    "                        grid_resolution=20, ax=ax);"
   ]
  },
  {
   "cell_type": "markdown",
   "id": "894b81b4",
   "metadata": {},
   "source": [
    "### Tree interpreter"
   ]
  },
  {
   "cell_type": "code",
   "execution_count": null,
   "id": "b283d49c",
   "metadata": {},
   "outputs": [],
   "source": [
    "#hide\n",
    "import warnings\n",
    "warnings.simplefilter('ignore', FutureWarning)\n",
    "\n",
    "from treeinterpreter import treeinterpreter\n",
    "from waterfall_chart import plot as waterfall"
   ]
  },
  {
   "cell_type": "code",
   "execution_count": null,
   "id": "c808405e",
   "metadata": {},
   "outputs": [],
   "source": [
    "row = valid_xs_final.iloc[:5]"
   ]
  },
  {
   "cell_type": "code",
   "execution_count": null,
   "id": "0407b525",
   "metadata": {},
   "outputs": [],
   "source": [
    "prediction,bias,contributions = treeinterpreter.predict(m, row.values)"
   ]
  },
  {
   "cell_type": "code",
   "execution_count": null,
   "id": "fc30abab",
   "metadata": {},
   "outputs": [],
   "source": [
    "waterfall(valid_xs_final.columns, contributions[0], threshold=0.08, \n",
    "          rotation_value=45,formatting='{:,.3f}');"
   ]
  },
  {
   "cell_type": "markdown",
   "id": "4c8aef0e",
   "metadata": {},
   "source": [
    "## Find out-of-domain data"
   ]
  },
  {
   "cell_type": "code",
   "execution_count": null,
   "id": "09adab0d",
   "metadata": {},
   "outputs": [],
   "source": [
    "df_dom = pd.concat([xs_final, valid_xs_final])\n",
    "is_valid = np.array([0]*len(xs_final) + [1]*len(valid_xs_final))\n",
    "\n",
    "m = rf(df_dom, is_valid)\n",
    "rf_feat_importance(m, df_dom)[:6]"
   ]
  },
  {
   "cell_type": "code",
   "execution_count": null,
   "id": "4cc1c8ba",
   "metadata": {},
   "outputs": [],
   "source": [
    "m = rf(xs_final, y)\n",
    "print('orig', m_rmse(m, valid_xs_final, valid_y))\n",
    "\n",
    "for c in ('SalesID','saleElapsed','MachineID'):\n",
    "    m = rf(xs_final.drop(c,axis=1), y)\n",
    "    print(c, m_rmse(m, valid_xs_final.drop(c,axis=1), valid_y))"
   ]
  },
  {
   "cell_type": "code",
   "execution_count": null,
   "id": "98c95275",
   "metadata": {},
   "outputs": [],
   "source": [
    "time_vars = ['SalesID','MachineID']\n",
    "xs_final_time = xs_final.drop(time_vars, axis=1)\n",
    "valid_xs_time = valid_xs_final.drop(time_vars, axis=1)\n",
    "\n",
    "m = rf(xs_final_time, y)\n",
    "m_rmse(m, valid_xs_time, valid_y)"
   ]
  },
  {
   "cell_type": "code",
   "execution_count": null,
   "id": "8c3d2ecf",
   "metadata": {},
   "outputs": [],
   "source": [
    "filt = xs['saleYear']>2004\n",
    "xs_filt = xs_final_time[filt]\n",
    "y_filt = y[filt]"
   ]
  },
  {
   "cell_type": "code",
   "execution_count": null,
   "id": "e044f4f2",
   "metadata": {},
   "outputs": [],
   "source": [
    "m = rf(xs_filt, y_filt)\n",
    "m_rmse(m, xs_filt, y_filt), m_rmse(m, valid_xs_time, valid_y)"
   ]
  },
  {
   "cell_type": "markdown",
   "id": "b7324199",
   "metadata": {},
   "source": [
    "## Use a neural network"
   ]
  },
  {
   "cell_type": "code",
   "execution_count": null,
   "id": "177623f0",
   "metadata": {},
   "outputs": [],
   "source": [
    "df_nn = pd.read_csv(path/'TrainAndValid.csv', low_memory=False)\n",
    "df_nn['ProductSize'] = df_nn['ProductSize'].astype('category')\n",
    "df_nn['ProductSize'].cat.set_categories(sizes, ordered=True, inplace=True)\n",
    "df_nn[dep_var] = np.log(df_nn[dep_var])\n",
    "df_nn = add_datepart(df_nn, 'saledate')"
   ]
  },
  {
   "cell_type": "code",
   "execution_count": null,
   "id": "9b75b06e",
   "metadata": {},
   "outputs": [],
   "source": [
    "df_nn_final = df_nn[list(xs_final_time.columns) + [dep_var]]"
   ]
  },
  {
   "cell_type": "code",
   "execution_count": null,
   "id": "7676a95e",
   "metadata": {},
   "outputs": [],
   "source": [
    "cont_nn,cat_nn = cont_cat_split(df_nn_final, max_card=9000, dep_var=dep_var)"
   ]
  },
  {
   "cell_type": "code",
   "execution_count": null,
   "id": "cfa29360",
   "metadata": {},
   "outputs": [],
   "source": [
    "df_nn_final[cat_nn].nunique()"
   ]
  },
  {
   "cell_type": "code",
   "execution_count": null,
   "id": "96ff3a78",
   "metadata": {},
   "outputs": [],
   "source": [
    "xs_filt2 = xs_filt.drop('fiModelDescriptor', axis=1)\n",
    "valid_xs_time2 = valid_xs_time.drop('fiModelDescriptor', axis=1)\n",
    "m2 = rf(xs_filt2, y_filt)\n",
    "m_rmse(m2, xs_filt2, y_filt), m_rmse(m2, valid_xs_time2, valid_y)"
   ]
  },
  {
   "cell_type": "code",
   "execution_count": null,
   "id": "b257fd9b",
   "metadata": {},
   "outputs": [],
   "source": [
    "cat_nn.remove('fiModelDescriptor')"
   ]
  },
  {
   "cell_type": "code",
   "execution_count": null,
   "id": "d772f0ec",
   "metadata": {},
   "outputs": [],
   "source": [
    "procs_nn = [Categorify, FillMissing, Normalize]\n",
    "to_nn = TabularPandas(df_nn_final, procs_nn, cat_nn, cont_nn,\n",
    "                      splits=splits, y_names=dep_var)"
   ]
  },
  {
   "cell_type": "code",
   "execution_count": null,
   "id": "2525a71d",
   "metadata": {},
   "outputs": [],
   "source": [
    "dls = to_nn.dataloaders(1024)"
   ]
  },
  {
   "cell_type": "code",
   "execution_count": null,
   "id": "f7ee59c7",
   "metadata": {},
   "outputs": [],
   "source": [
    "y = to_nn.train.y\n",
    "y.min(),y.max()"
   ]
  },
  {
   "cell_type": "code",
   "execution_count": null,
   "id": "427c0519",
   "metadata": {},
   "outputs": [],
   "source": [
    "learn = tabular_learner(dls, y_range=(8,12), layers=[500,250],\n",
    "                        n_out=1, loss_func=F.mse_loss)"
   ]
  },
  {
   "cell_type": "code",
   "execution_count": null,
   "id": "067ca5a2",
   "metadata": {},
   "outputs": [],
   "source": [
    "learn.lr_find()"
   ]
  },
  {
   "cell_type": "code",
   "execution_count": null,
   "id": "c71d0fb9",
   "metadata": {},
   "outputs": [],
   "source": [
    "learn.fit_one_cycle(5, 1e-2)"
   ]
  },
  {
   "cell_type": "code",
   "execution_count": null,
   "id": "7b2769d6",
   "metadata": {},
   "outputs": [],
   "source": [
    "preds,targs = learn.get_preds()\n",
    "r_mse(preds,targs)"
   ]
  },
  {
   "cell_type": "code",
   "execution_count": null,
   "id": "5fbdb509",
   "metadata": {},
   "outputs": [],
   "source": [
    "learn.save('nn')"
   ]
  },
  {
   "cell_type": "code",
   "execution_count": null,
   "id": "4fd69cf5",
   "metadata": {},
   "outputs": [],
   "source": [
    "rf_preds = m.predict(valid_xs_time)\n",
    "ens_preds = (to_np(preds.squeeze()) + rf_preds) /2"
   ]
  },
  {
   "cell_type": "code",
   "execution_count": null,
   "id": "cb6e6d5d",
   "metadata": {},
   "outputs": [],
   "source": [
    "r_mse(ens_preds,valid_y)"
   ]
  }
 ],
 "metadata": {
  "kernelspec": {
   "display_name": "Python 3 (ipykernel)",
   "language": "python",
   "name": "python3"
  },
  "language_info": {
   "codemirror_mode": {
    "name": "ipython",
    "version": 3
   },
   "file_extension": ".py",
   "mimetype": "text/x-python",
   "name": "python",
   "nbconvert_exporter": "python",
   "pygments_lexer": "ipython3",
   "version": "3.8.9"
  },
  "toc": {
   "base_numbering": 1,
   "nav_menu": {},
   "number_sections": true,
   "sideBar": true,
   "skip_h1_title": false,
   "title_cell": "Table of Contents",
   "title_sidebar": "Contents",
   "toc_cell": false,
   "toc_position": {},
   "toc_section_display": true,
   "toc_window_display": true
  }
 },
 "nbformat": 4,
 "nbformat_minor": 5
}
