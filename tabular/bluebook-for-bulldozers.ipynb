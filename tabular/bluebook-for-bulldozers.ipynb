{
 "cells": [
  {
   "cell_type": "markdown",
   "id": "b0698a55",
   "metadata": {},
   "source": [
    "# Bluebook for Bulldozers"
   ]
  },
  {
   "cell_type": "code",
   "execution_count": 1,
   "id": "ff6c67cf",
   "metadata": {},
   "outputs": [],
   "source": [
    "from fastai.tabular.all import *\n",
    "from fastbook import *\n",
    "from sklearn.ensemble import RandomForestRegressor"
   ]
  },
  {
   "cell_type": "markdown",
   "id": "54b6f37b",
   "metadata": {},
   "source": [
    "## Download the dataset"
   ]
  },
  {
   "cell_type": "code",
   "execution_count": 2,
   "id": "3951f0f6",
   "metadata": {},
   "outputs": [],
   "source": [
    "# TODO: Consider making a tiny fastkaggle package - or putting it in fastcore.\n",
    "# that essentially does this, and allows you to copy pasta your username and api key."
   ]
  },
  {
   "cell_type": "markdown",
   "id": "e9404e3f",
   "metadata": {},
   "source": [
    "Before we get started, ensure that your Kaggle API credentials file exists in the expected place:"
   ]
  },
  {
   "cell_type": "code",
   "execution_count": 3,
   "id": "088ed498",
   "metadata": {},
   "outputs": [],
   "source": [
    "assert Path('~/.kaggle/kaggle.json').expanduser().exists()"
   ]
  },
  {
   "cell_type": "markdown",
   "id": "f0ae801f",
   "metadata": {},
   "source": [
    "If the above cell fails, you'll need to create a credentials file manually at `~/.kaggle/kaggle.json` with contents:\n",
    "\n",
    "```json\n",
    "{\"username\":\"user\",\"key\":\"12345\"}\n",
    "```\n",
    "\n",
    "replacing `user` with your Kaggle username and `12345` with an API key. An actual key will be much longer and contain both letters and numbers.\n",
    "\n",
    "If you don't have a key, you can get one by creating an API token on the Kaggle website. Go to https://www.kaggle.com, click on your profile icon in the top-right, click _Account_, scroll down to the _API_ section, and click _Create New API token_. This will download a `kaggle.json` file which looks like the above. Finally, move the token file to `~/.kaggle/kaggle.json` and rerun the previous cell to ensure that it's in the right place."
   ]
  },
  {
   "cell_type": "markdown",
   "id": "8044caec",
   "metadata": {},
   "source": [
    "Download the dataset using the Kaggle API client:"
   ]
  },
  {
   "cell_type": "code",
   "execution_count": 4,
   "id": "7a195f6a",
   "metadata": {},
   "outputs": [
    {
     "data": {
      "text/plain": [
       "Path('/Users/seem/.fastai/archive/bluebook-for-bulldozers')"
      ]
     },
     "execution_count": 4,
     "metadata": {},
     "output_type": "execute_result"
    }
   ],
   "source": [
    "comp = 'bluebook-for-bulldozers'\n",
    "path = URLs.path(comp)\n",
    "path"
   ]
  },
  {
   "cell_type": "markdown",
   "id": "4c6041a5",
   "metadata": {},
   "source": [
    "Extract the contents of the downloaded archive:"
   ]
  },
  {
   "cell_type": "code",
   "execution_count": 5,
   "id": "7d949370",
   "metadata": {},
   "outputs": [],
   "source": [
    "#A little trick to display paths relative to the data directory, for convenience\n",
    "Path.BASE_PATH = path"
   ]
  },
  {
   "cell_type": "code",
   "execution_count": 407,
   "id": "a5c3ce2a",
   "metadata": {},
   "outputs": [
    {
     "data": {
      "text/plain": [
       "(#7) [Path('random_forest_benchmark_test.csv'),Path('Valid.csv'),Path('median_benchmark.csv'),Path('Test.csv'),Path('ValidSolution.csv'),Path('Machine_Appendix.csv'),Path('TrainAndValid.csv')]"
      ]
     },
     "execution_count": 407,
     "metadata": {},
     "output_type": "execute_result"
    }
   ],
   "source": [
    "if not path.exists() or not path.ls(file_type='text'):\n",
    "    path.mkdir(parents=true)\n",
    "    api.competition_download_cli(comp, path=path)\n",
    "    shutil.unpack_archive(str(path/f'{comp}.zip'), str(path))\n",
    "path.ls(file_type='text')"
   ]
  },
  {
   "cell_type": "markdown",
   "id": "2774506f",
   "metadata": {},
   "source": [
    "Read the dataset to a pandas dataframe:"
   ]
  },
  {
   "cell_type": "markdown",
   "id": "5c5c2f93",
   "metadata": {},
   "source": [
    "## Features"
   ]
  },
  {
   "cell_type": "markdown",
   "id": "a7c8bbfd",
   "metadata": {},
   "source": [
    "TODO: Could `tabular_learner` also provide default `procs` that work 90% of the time?"
   ]
  },
  {
   "cell_type": "markdown",
   "id": "205b120d",
   "metadata": {},
   "source": [
    "The evaluation metric is RMSLE, so take the log of the output to directly optimise for that instead of MSE. I believe GBMs and NNs can directly optimise for RMSLE instead of indirectly like this? (**TODO: Confirm**)"
   ]
  },
  {
   "cell_type": "markdown",
   "id": "045068c7",
   "metadata": {},
   "source": [
    "Trade-offs to `add_datepart` as a pre-processing function vs a `TabularProc`:\n",
    "\n",
    "- I'm not sure how likely it is to correctly infer which columns are dates.\n",
    "- Lose the flexibility of deciding how to treat outputs as cont/cat - particularly the dependence on `max_card`.\n",
    "- It's only one additional line of code... Much of a muchness?\n",
    "- Is there benefit to having the decoded datetime?"
   ]
  },
  {
   "cell_type": "code",
   "execution_count": 344,
   "id": "d61b6892",
   "metadata": {},
   "outputs": [],
   "source": [
    "df = pd.read_csv(path/'TrainAndValid.csv', low_memory=False)\n",
    "dep_var = 'SalePrice'\n",
    "df[dep_var] = np.log(df[dep_var]) # Random forests can't train directly on rmsle so this gets closer, better acc\n",
    "df = add_datepart(df, 'saledate')\n",
    "cont,cat = cont_cat_split(df, dep_var=dep_var, max_card=1) #TODO: max_card needed?\n",
    "procs = [Categorify, FillMissing]\n",
    "cond = (df.saleYear<2011) | (df.saleMonth<10)\n",
    "train_idx = df.index[ cond]\n",
    "valid_idx = df.index[~cond]\n",
    "splits = (list(train_idx),list(valid_idx))\n",
    "to = TabularPandas(df, procs, cat, cont, y_names=dep_var, splits=splits)"
   ]
  },
  {
   "cell_type": "code",
   "execution_count": 345,
   "id": "cc733968",
   "metadata": {},
   "outputs": [],
   "source": [
    "def r_mse(pred,y): return round(math.sqrt(((pred-y)**2).mean()), 6)\n",
    "def m_rmse(m, xs, y): return r_mse(m.predict(xs), y)"
   ]
  },
  {
   "cell_type": "code",
   "execution_count": 346,
   "id": "e8477533",
   "metadata": {},
   "outputs": [],
   "source": [
    "def rf(xs, y, n_estimators=40, max_samples=200_000,\n",
    "       max_features=0.5, min_samples_leaf=5, **kwargs):\n",
    "    return RandomForestRegressor(n_jobs=-1, n_estimators=n_estimators,\n",
    "        max_samples=max_samples, max_features=max_features,\n",
    "        min_samples_leaf=min_samples_leaf, oob_score=True).fit(xs, y)"
   ]
  },
  {
   "cell_type": "code",
   "execution_count": 347,
   "id": "24949043",
   "metadata": {},
   "outputs": [
    {
     "data": {
      "text/plain": [
       "(0.171178, 0.233481)"
      ]
     },
     "execution_count": 347,
     "metadata": {},
     "output_type": "execute_result"
    }
   ],
   "source": [
    "xs,y = to.train.xs,to.train.y\n",
    "valid_xs,valid_y = to.valid.xs,to.valid.y\n",
    "m = rf(xs, y)\n",
    "m_rmse(m, xs, y), m_rmse(m, valid_xs, valid_y)"
   ]
  },
  {
   "cell_type": "markdown",
   "id": "3286a7bc",
   "metadata": {},
   "source": [
    "**TODO:** Can't we use `tabular_learner` here with random forest? Or does it only support NNs?"
   ]
  },
  {
   "cell_type": "code",
   "execution_count": 348,
   "id": "84222e5f",
   "metadata": {},
   "outputs": [
    {
     "data": {
      "text/plain": [
       "0.211081"
      ]
     },
     "execution_count": 348,
     "metadata": {},
     "output_type": "execute_result"
    }
   ],
   "source": [
    "r_mse(m.oob_prediction_, y)"
   ]
  },
  {
   "cell_type": "markdown",
   "id": "ddcc4f65",
   "metadata": {},
   "source": [
    "## Simplify the model"
   ]
  },
  {
   "cell_type": "code",
   "execution_count": 349,
   "id": "93faf45c",
   "metadata": {},
   "outputs": [],
   "source": [
    "def rf_feat_importance(m, df):\n",
    "    std = np.std([o.feature_importances_ for o in m.estimators_], axis=0)\n",
    "    return pd.DataFrame({'col':df.columns,'imp':m.feature_importances_,'std':std}\n",
    "                       ).sort_values('imp', ascending=False)"
   ]
  },
  {
   "cell_type": "code",
   "execution_count": 350,
   "id": "215e6b72",
   "metadata": {},
   "outputs": [
    {
     "data": {
      "text/html": [
       "<div>\n",
       "<style scoped>\n",
       "    .dataframe tbody tr th:only-of-type {\n",
       "        vertical-align: middle;\n",
       "    }\n",
       "\n",
       "    .dataframe tbody tr th {\n",
       "        vertical-align: top;\n",
       "    }\n",
       "\n",
       "    .dataframe thead th {\n",
       "        text-align: right;\n",
       "    }\n",
       "</style>\n",
       "<table border=\"1\" class=\"dataframe\">\n",
       "  <thead>\n",
       "    <tr style=\"text-align: right;\">\n",
       "      <th></th>\n",
       "      <th>col</th>\n",
       "      <th>imp</th>\n",
       "      <th>std</th>\n",
       "    </tr>\n",
       "  </thead>\n",
       "  <tbody>\n",
       "    <tr>\n",
       "      <th>57</th>\n",
       "      <td>YearMade</td>\n",
       "      <td>0.1681</td>\n",
       "      <td>0.0190</td>\n",
       "    </tr>\n",
       "    <tr>\n",
       "      <th>6</th>\n",
       "      <td>ProductSize</td>\n",
       "      <td>0.1023</td>\n",
       "      <td>0.0413</td>\n",
       "    </tr>\n",
       "    <tr>\n",
       "      <th>30</th>\n",
       "      <td>Coupler_System</td>\n",
       "      <td>0.0943</td>\n",
       "      <td>0.1046</td>\n",
       "    </tr>\n",
       "    <tr>\n",
       "      <th>7</th>\n",
       "      <td>fiProductClassDesc</td>\n",
       "      <td>0.0737</td>\n",
       "      <td>0.0349</td>\n",
       "    </tr>\n",
       "    <tr>\n",
       "      <th>31</th>\n",
       "      <td>Grouser_Tracks</td>\n",
       "      <td>0.0675</td>\n",
       "      <td>0.0978</td>\n",
       "    </tr>\n",
       "    <tr>\n",
       "      <th>54</th>\n",
       "      <td>ModelID</td>\n",
       "      <td>0.0565</td>\n",
       "      <td>0.0228</td>\n",
       "    </tr>\n",
       "    <tr>\n",
       "      <th>65</th>\n",
       "      <td>saleElapsed</td>\n",
       "      <td>0.0514</td>\n",
       "      <td>0.0040</td>\n",
       "    </tr>\n",
       "    <tr>\n",
       "      <th>3</th>\n",
       "      <td>fiSecondaryDesc</td>\n",
       "      <td>0.0513</td>\n",
       "      <td>0.0239</td>\n",
       "    </tr>\n",
       "    <tr>\n",
       "      <th>12</th>\n",
       "      <td>Enclosure</td>\n",
       "      <td>0.0380</td>\n",
       "      <td>0.0387</td>\n",
       "    </tr>\n",
       "    <tr>\n",
       "      <th>32</th>\n",
       "      <td>Hydraulics_Flow</td>\n",
       "      <td>0.0350</td>\n",
       "      <td>0.0774</td>\n",
       "    </tr>\n",
       "  </tbody>\n",
       "</table>\n",
       "</div>"
      ],
      "text/plain": [
       "                   col     imp     std\n",
       "57            YearMade  0.1681  0.0190\n",
       "6          ProductSize  0.1023  0.0413\n",
       "30      Coupler_System  0.0943  0.1046\n",
       "7   fiProductClassDesc  0.0737  0.0349\n",
       "31      Grouser_Tracks  0.0675  0.0978\n",
       "54             ModelID  0.0565  0.0228\n",
       "65         saleElapsed  0.0514  0.0040\n",
       "3      fiSecondaryDesc  0.0513  0.0239\n",
       "12           Enclosure  0.0380  0.0387\n",
       "32     Hydraulics_Flow  0.0350  0.0774"
      ]
     },
     "execution_count": 350,
     "metadata": {},
     "output_type": "execute_result"
    }
   ],
   "source": [
    "fi = rf_feat_importance(m, xs)\n",
    "fi[:10]"
   ]
  },
  {
   "cell_type": "code",
   "execution_count": 351,
   "id": "6f77e144",
   "metadata": {},
   "outputs": [],
   "source": [
    "def plot_fi(fi):\n",
    "    cols = len(fi)\n",
    "    figsize = (12, cols/4.3)\n",
    "    fi[:cols][::-1].plot.barh('col', 'imp', yerr='std', figsize=figsize, legend=False,\n",
    "                              xlabel='Column', ylabel='Importance')"
   ]
  },
  {
   "cell_type": "code",
   "execution_count": 352,
   "id": "c34fab3b",
   "metadata": {
    "scrolled": false
   },
   "outputs": [
    {
     "data": {
      "image/png": "[encoded data removed]",
      "text/plain": [
       "<Figure size 864x502.326 with 1 Axes>"
      ]
     },
     "metadata": {
      "needs_background": "light"
     },
     "output_type": "display_data"
    }
   ],
   "source": [
    "plot_fi(fi[:30])"
   ]
  },
  {
   "cell_type": "code",
   "execution_count": 353,
   "id": "262e1940",
   "metadata": {},
   "outputs": [
    {
     "data": {
      "text/plain": [
       "21"
      ]
     },
     "execution_count": 353,
     "metadata": {},
     "output_type": "execute_result"
    }
   ],
   "source": [
    "to_keep = fi[fi.imp>0.005].col\n",
    "len(to_keep)"
   ]
  },
  {
   "cell_type": "code",
   "execution_count": 354,
   "id": "62e26100",
   "metadata": {},
   "outputs": [],
   "source": [
    "xs_imp = xs[to_keep]\n",
    "valid_xs_imp = valid_xs[to_keep]"
   ]
  },
  {
   "cell_type": "code",
   "execution_count": 355,
   "id": "d2773c76",
   "metadata": {},
   "outputs": [],
   "source": [
    "m = rf(xs_imp, y)"
   ]
  },
  {
   "cell_type": "code",
   "execution_count": 356,
   "id": "a274cd6d",
   "metadata": {},
   "outputs": [
    {
     "data": {
      "text/plain": [
       "(0.181494, 0.231584)"
      ]
     },
     "execution_count": 356,
     "metadata": {},
     "output_type": "execute_result"
    }
   ],
   "source": [
    "m_rmse(m, xs_imp, y), m_rmse(m, valid_xs_imp, valid_y)"
   ]
  },
  {
   "cell_type": "code",
   "execution_count": 357,
   "id": "5a925613",
   "metadata": {},
   "outputs": [
    {
     "data": {
      "text/plain": [
       "(66, 21)"
      ]
     },
     "execution_count": 357,
     "metadata": {},
     "output_type": "execute_result"
    }
   ],
   "source": [
    "len(xs.columns), len(xs_imp.columns)"
   ]
  },
  {
   "cell_type": "code",
   "execution_count": 358,
   "id": "c3628cac",
   "metadata": {},
   "outputs": [
    {
     "data": {
      "image/png": "[encoded data removed]",
      "text/plain": [
       "<Figure size 864x351.628 with 1 Axes>"
      ]
     },
     "metadata": {
      "needs_background": "light"
     },
     "output_type": "display_data"
    }
   ],
   "source": [
    "plot_fi(rf_feat_importance(m, xs_imp));"
   ]
  },
  {
   "cell_type": "code",
   "execution_count": 359,
   "id": "6168bb01",
   "metadata": {},
   "outputs": [
    {
     "data": {
      "image/png": "[encoded data removed]",
      "text/plain": [
       "<Figure size 720x432 with 1 Axes>"
      ]
     },
     "metadata": {
      "needs_background": "light"
     },
     "output_type": "display_data"
    }
   ],
   "source": [
    "cluster_columns(xs_imp)"
   ]
  },
  {
   "cell_type": "code",
   "execution_count": 360,
   "id": "a77956a9",
   "metadata": {},
   "outputs": [],
   "source": [
    "def get_oob(xs): return rf(xs, y, min_samples_leaf=15, max_samples=50_000).oob_score_"
   ]
  },
  {
   "cell_type": "code",
   "execution_count": 361,
   "id": "8d7cd0e2",
   "metadata": {},
   "outputs": [
    {
     "data": {
      "text/plain": [
       "0.8760563071236636"
      ]
     },
     "execution_count": 361,
     "metadata": {},
     "output_type": "execute_result"
    }
   ],
   "source": [
    "get_oob(xs_imp)"
   ]
  },
  {
   "cell_type": "code",
   "execution_count": 362,
   "id": "90da4c64",
   "metadata": {},
   "outputs": [
    {
     "data": {
      "text/plain": [
       "{'saleYear': 0.8753243022649729,\n",
       " 'saleElapsed': 0.8711413506481148,\n",
       " 'ProductGroupDesc': 0.8752950674156412,\n",
       " 'ProductGroup': 0.8760322526149165,\n",
       " 'fiModelDesc': 0.8748252067026734,\n",
       " 'fiBaseModel': 0.8744360871810613,\n",
       " 'Hydraulics_Flow': 0.8763016325937382,\n",
       " 'Grouser_Tracks': 0.8764195902051581,\n",
       " 'Coupler_System': 0.8763958400019327}"
      ]
     },
     "execution_count": 362,
     "metadata": {},
     "output_type": "execute_result"
    }
   ],
   "source": [
    "{c:get_oob(xs_imp.drop(c, axis=1)) for c in (\n",
    "    'saleYear', 'saleElapsed', 'ProductGroupDesc','ProductGroup',\n",
    "    'fiModelDesc', 'fiBaseModel',\n",
    "    'Hydraulics_Flow','Grouser_Tracks', 'Coupler_System')}"
   ]
  },
  {
   "cell_type": "code",
   "execution_count": 363,
   "id": "c2708445",
   "metadata": {},
   "outputs": [
    {
     "data": {
      "text/plain": [
       "0.8729794109514379"
      ]
     },
     "execution_count": 363,
     "metadata": {},
     "output_type": "execute_result"
    }
   ],
   "source": [
    "to_drop = ['saleYear', 'ProductGroupDesc', 'fiBaseModel', 'Grouser_Tracks']\n",
    "get_oob(xs_imp.drop(to_drop, axis=1))"
   ]
  },
  {
   "cell_type": "code",
   "execution_count": 364,
   "id": "b1331af7",
   "metadata": {},
   "outputs": [],
   "source": [
    "xs_final = xs_imp.drop(to_drop, axis=1)\n",
    "valid_xs_final = valid_xs_imp.drop(to_drop, axis=1)"
   ]
  },
  {
   "cell_type": "code",
   "execution_count": 365,
   "id": "0abf87a7",
   "metadata": {},
   "outputs": [],
   "source": [
    "save_pickle(path/'xs_final.pkl', xs_final)\n",
    "save_pickle(path/'valid_xs_final.pkl', valid_xs_final)"
   ]
  },
  {
   "cell_type": "code",
   "execution_count": 366,
   "id": "cd5d8f7b",
   "metadata": {},
   "outputs": [],
   "source": [
    "xs_final = load_pickle(path/'xs_final.pkl')\n",
    "valid_xs_final = load_pickle(path/'valid_xs_final.pkl')"
   ]
  },
  {
   "cell_type": "code",
   "execution_count": 367,
   "id": "72200fe1",
   "metadata": {},
   "outputs": [
    {
     "data": {
      "text/plain": [
       "(0.183869, 0.232978)"
      ]
     },
     "execution_count": 367,
     "metadata": {},
     "output_type": "execute_result"
    }
   ],
   "source": [
    "m = rf(xs_final, y)\n",
    "m_rmse(m, xs_final, y), m_rmse(m, valid_xs_final, valid_y)"
   ]
  },
  {
   "cell_type": "markdown",
   "id": "3fb86683",
   "metadata": {},
   "source": [
    "## Interpret the model"
   ]
  },
  {
   "cell_type": "markdown",
   "id": "c30b989e",
   "metadata": {},
   "source": [
    "### Partial dependence analysis"
   ]
  },
  {
   "cell_type": "code",
   "execution_count": 372,
   "id": "5d71ec62",
   "metadata": {},
   "outputs": [],
   "source": [
    "from sklearn.inspection import PartialDependenceDisplay"
   ]
  },
  {
   "cell_type": "code",
   "execution_count": 378,
   "id": "2cae37d7",
   "metadata": {},
   "outputs": [
    {
     "data": {
      "image/png": "[encoded data removed]",
      "text/plain": [
       "<Figure size 864x288 with 3 Axes>"
      ]
     },
     "metadata": {
      "needs_background": "light"
     },
     "output_type": "display_data"
    }
   ],
   "source": [
    "fig,ax = plt.subplots(figsize=(12, 4))\n",
    "pdd = PartialDependenceDisplay.from_estimator(m, valid_xs_final[valid_xs_final['YearMade']>=1950],\n",
    "                                              ['YearMade','ProductSize'],grid_resolution=20, ax=ax)"
   ]
  },
  {
   "cell_type": "markdown",
   "id": "894b81b4",
   "metadata": {},
   "source": [
    "### Tree interpreter"
   ]
  },
  {
   "cell_type": "code",
   "execution_count": 379,
   "id": "b283d49c",
   "metadata": {},
   "outputs": [],
   "source": [
    "#hide\n",
    "import warnings\n",
    "warnings.simplefilter('ignore', FutureWarning)\n",
    "\n",
    "from treeinterpreter import treeinterpreter\n",
    "from waterfall_chart import plot as waterfall"
   ]
  },
  {
   "cell_type": "code",
   "execution_count": 380,
   "id": "c808405e",
   "metadata": {},
   "outputs": [],
   "source": [
    "row = valid_xs_final.iloc[:5]"
   ]
  },
  {
   "cell_type": "code",
   "execution_count": 381,
   "id": "0407b525",
   "metadata": {},
   "outputs": [],
   "source": [
    "prediction,bias,contributions = treeinterpreter.predict(m, row.values)"
   ]
  },
  {
   "cell_type": "code",
   "execution_count": 382,
   "id": "fc30abab",
   "metadata": {},
   "outputs": [
    {
     "data": {
      "image/png": "[encoded data removed]",
      "text/plain": [
       "<Figure size 432x288 with 1 Axes>"
      ]
     },
     "metadata": {
      "needs_background": "light"
     },
     "output_type": "display_data"
    }
   ],
   "source": [
    "waterfall(valid_xs_final.columns, contributions[0], threshold=0.08, \n",
    "          rotation_value=45,formatting='{:,.3f}');"
   ]
  },
  {
   "cell_type": "markdown",
   "id": "4c8aef0e",
   "metadata": {},
   "source": [
    "## Find out-of-domain data"
   ]
  },
  {
   "cell_type": "code",
   "execution_count": 404,
   "id": "09adab0d",
   "metadata": {},
   "outputs": [
    {
     "data": {
      "image/png": "[encoded data removed]",
      "text/plain": [
       "<Figure size 864x50.2326 with 1 Axes>"
      ]
     },
     "metadata": {
      "needs_background": "light"
     },
     "output_type": "display_data"
    }
   ],
   "source": [
    "df_dom = pd.concat([xs_final, valid_xs_final])\n",
    "is_valid = np.array([0]*len(xs_final) + [1]*len(valid_xs_final))\n",
    "m = rf(df_dom, is_valid)\n",
    "plot_fi(rf_feat_importance(m, df_dom).loc[lambda x: x['imp']>0.005])"
   ]
  },
  {
   "cell_type": "code",
   "execution_count": 389,
   "id": "4cc1c8ba",
   "metadata": {},
   "outputs": [
    {
     "name": "stdout",
     "output_type": "stream",
     "text": [
      "orig 0.232736\n",
      "SalesID 0.230162\n",
      "saleElapsed 0.235006\n",
      "MachineID 0.231202\n"
     ]
    }
   ],
   "source": [
    "m = rf(xs_final, y)\n",
    "print('orig', m_rmse(m, valid_xs_final, valid_y))\n",
    "\n",
    "for c in ('SalesID','saleElapsed','MachineID'):\n",
    "    m = rf(xs_final.drop(c,axis=1), y)\n",
    "    print(c, m_rmse(m, valid_xs_final.drop(c,axis=1), valid_y))"
   ]
  },
  {
   "cell_type": "code",
   "execution_count": 390,
   "id": "98c95275",
   "metadata": {},
   "outputs": [
    {
     "data": {
      "text/plain": [
       "0.228362"
      ]
     },
     "execution_count": 390,
     "metadata": {},
     "output_type": "execute_result"
    }
   ],
   "source": [
    "time_vars = ['SalesID','MachineID']\n",
    "xs_final_time = xs_final.drop(time_vars, axis=1)\n",
    "valid_xs_time = valid_xs_final.drop(time_vars, axis=1)\n",
    "\n",
    "m = rf(xs_final_time, y)\n",
    "m_rmse(m, valid_xs_time, valid_y)"
   ]
  },
  {
   "cell_type": "code",
   "execution_count": 391,
   "id": "8c3d2ecf",
   "metadata": {},
   "outputs": [],
   "source": [
    "filt = xs['saleYear']>2004\n",
    "xs_filt = xs_final_time[filt]\n",
    "y_filt = y[filt]"
   ]
  },
  {
   "cell_type": "code",
   "execution_count": 392,
   "id": "e044f4f2",
   "metadata": {},
   "outputs": [
    {
     "data": {
      "text/plain": [
       "(0.17818, 0.228934)"
      ]
     },
     "execution_count": 392,
     "metadata": {},
     "output_type": "execute_result"
    }
   ],
   "source": [
    "m = rf(xs_filt, y_filt)\n",
    "m_rmse(m, xs_filt, y_filt), m_rmse(m, valid_xs_time, valid_y)"
   ]
  },
  {
   "cell_type": "markdown",
   "id": "b7324199",
   "metadata": {},
   "source": [
    "## Use a neural network"
   ]
  },
  {
   "cell_type": "code",
   "execution_count": 393,
   "id": "177623f0",
   "metadata": {},
   "outputs": [],
   "source": [
    "df_nn = pd.read_csv(path/'TrainAndValid.csv', low_memory=False)\n",
    "# df_nn['ProductSize'] = df_nn['ProductSize'].astype('category')\n",
    "# df_nn['ProductSize'].cat.set_categories(sizes, ordered=True, inplace=True)\n",
    "df_nn[dep_var] = np.log(df_nn[dep_var])\n",
    "df_nn = add_datepart(df_nn, 'saledate')"
   ]
  },
  {
   "cell_type": "code",
   "execution_count": 394,
   "id": "9b75b06e",
   "metadata": {},
   "outputs": [],
   "source": [
    "df_nn_final = df_nn[list(xs_final_time.columns) + [dep_var]]"
   ]
  },
  {
   "cell_type": "code",
   "execution_count": 395,
   "id": "7676a95e",
   "metadata": {},
   "outputs": [],
   "source": [
    "cont_nn,cat_nn = cont_cat_split(df_nn_final, max_card=9000, dep_var=dep_var)"
   ]
  },
  {
   "cell_type": "code",
   "execution_count": 396,
   "id": "cfa29360",
   "metadata": {},
   "outputs": [
    {
     "data": {
      "text/plain": [
       "YearMade                73\n",
       "ProductSize              6\n",
       "Coupler_System           2\n",
       "fiProductClassDesc      74\n",
       "ModelID               5281\n",
       "fiSecondaryDesc        177\n",
       "Enclosure                6\n",
       "Hydraulics_Flow          3\n",
       "fiModelDesc           5059\n",
       "fiModelDescriptor      140\n",
       "Hydraulics              12\n",
       "Tire_Size               17\n",
       "ProductGroup             6\n",
       "Drive_System             4\n",
       "dtype: int64"
      ]
     },
     "execution_count": 396,
     "metadata": {},
     "output_type": "execute_result"
    }
   ],
   "source": [
    "df_nn_final[cat_nn].nunique()"
   ]
  },
  {
   "cell_type": "markdown",
   "id": "312823c0",
   "metadata": {},
   "source": [
    "**TODO:** Would there have been a better way to find that `fiModelDesc` and `ModelID` are \"correlated\"?"
   ]
  },
  {
   "cell_type": "code",
   "execution_count": 402,
   "id": "09dfd803",
   "metadata": {},
   "outputs": [
    {
     "data": {
      "text/html": [
       "<div>\n",
       "<style scoped>\n",
       "    .dataframe tbody tr th:only-of-type {\n",
       "        vertical-align: middle;\n",
       "    }\n",
       "\n",
       "    .dataframe tbody tr th {\n",
       "        vertical-align: top;\n",
       "    }\n",
       "\n",
       "    .dataframe thead th {\n",
       "        text-align: right;\n",
       "    }\n",
       "</style>\n",
       "<table border=\"1\" class=\"dataframe\">\n",
       "  <thead>\n",
       "    <tr style=\"text-align: right;\">\n",
       "      <th></th>\n",
       "      <th>ModelID</th>\n",
       "      <th>fiModelDesc</th>\n",
       "    </tr>\n",
       "  </thead>\n",
       "  <tbody>\n",
       "    <tr>\n",
       "      <th>0</th>\n",
       "      <td>3157</td>\n",
       "      <td>521D</td>\n",
       "    </tr>\n",
       "    <tr>\n",
       "      <th>1</th>\n",
       "      <td>77</td>\n",
       "      <td>950FII</td>\n",
       "    </tr>\n",
       "    <tr>\n",
       "      <th>2</th>\n",
       "      <td>7009</td>\n",
       "      <td>226</td>\n",
       "    </tr>\n",
       "    <tr>\n",
       "      <th>3</th>\n",
       "      <td>332</td>\n",
       "      <td>PC120-6E</td>\n",
       "    </tr>\n",
       "    <tr>\n",
       "      <th>4</th>\n",
       "      <td>17311</td>\n",
       "      <td>S175</td>\n",
       "    </tr>\n",
       "    <tr>\n",
       "      <th>...</th>\n",
       "      <td>...</td>\n",
       "      <td>...</td>\n",
       "    </tr>\n",
       "    <tr>\n",
       "      <th>412693</th>\n",
       "      <td>21435</td>\n",
       "      <td>30NX</td>\n",
       "    </tr>\n",
       "    <tr>\n",
       "      <th>412694</th>\n",
       "      <td>21436</td>\n",
       "      <td>30NX2</td>\n",
       "    </tr>\n",
       "    <tr>\n",
       "      <th>412695</th>\n",
       "      <td>21435</td>\n",
       "      <td>30NX</td>\n",
       "    </tr>\n",
       "    <tr>\n",
       "      <th>412696</th>\n",
       "      <td>21435</td>\n",
       "      <td>30NX</td>\n",
       "    </tr>\n",
       "    <tr>\n",
       "      <th>412697</th>\n",
       "      <td>21436</td>\n",
       "      <td>30NX2</td>\n",
       "    </tr>\n",
       "  </tbody>\n",
       "</table>\n",
       "<p>412698 rows × 2 columns</p>\n",
       "</div>"
      ],
      "text/plain": [
       "        ModelID fiModelDesc\n",
       "0          3157        521D\n",
       "1            77      950FII\n",
       "2          7009         226\n",
       "3           332    PC120-6E\n",
       "4         17311        S175\n",
       "...         ...         ...\n",
       "412693    21435        30NX\n",
       "412694    21436       30NX2\n",
       "412695    21435        30NX\n",
       "412696    21435        30NX\n",
       "412697    21436       30NX2\n",
       "\n",
       "[412698 rows x 2 columns]"
      ]
     },
     "execution_count": 402,
     "metadata": {},
     "output_type": "execute_result"
    }
   ],
   "source": [
    "df_nn_final[['ModelID', 'fiModelDesc']]"
   ]
  },
  {
   "cell_type": "code",
   "execution_count": 399,
   "id": "96ff3a78",
   "metadata": {},
   "outputs": [
    {
     "data": {
      "text/plain": [
       "(0.180566, 0.232341)"
      ]
     },
     "execution_count": 399,
     "metadata": {},
     "output_type": "execute_result"
    }
   ],
   "source": [
    "xs_filt2 = xs_filt.drop('fiModelDesc', axis=1)\n",
    "valid_xs_time2 = valid_xs_time.drop('fiModelDesc', axis=1)\n",
    "m2 = rf(xs_filt2, y_filt)\n",
    "m_rmse(m2, xs_filt2, y_filt), m_rmse(m2, valid_xs_time2, valid_y)"
   ]
  },
  {
   "cell_type": "code",
   "execution_count": 398,
   "id": "b257fd9b",
   "metadata": {},
   "outputs": [],
   "source": [
    "cat_nn.remove('fiModelDescriptor')"
   ]
  },
  {
   "cell_type": "code",
   "execution_count": null,
   "id": "d772f0ec",
   "metadata": {},
   "outputs": [],
   "source": [
    "procs_nn = [Categorify, FillMissing, Normalize]\n",
    "to_nn = TabularPandas(df_nn_final, procs_nn, cat_nn, cont_nn,\n",
    "                      splits=splits, y_names=dep_var)"
   ]
  },
  {
   "cell_type": "code",
   "execution_count": null,
   "id": "2525a71d",
   "metadata": {},
   "outputs": [],
   "source": [
    "dls = to_nn.dataloaders(1024)"
   ]
  },
  {
   "cell_type": "code",
   "execution_count": null,
   "id": "f7ee59c7",
   "metadata": {},
   "outputs": [],
   "source": [
    "y = to_nn.train.y\n",
    "y.min(),y.max()"
   ]
  },
  {
   "cell_type": "code",
   "execution_count": null,
   "id": "427c0519",
   "metadata": {},
   "outputs": [],
   "source": [
    "learn = tabular_learner(dls, y_range=(8,12), layers=[500,250],\n",
    "                        n_out=1, loss_func=F.mse_loss)"
   ]
  },
  {
   "cell_type": "code",
   "execution_count": null,
   "id": "067ca5a2",
   "metadata": {},
   "outputs": [],
   "source": [
    "learn.lr_find()"
   ]
  },
  {
   "cell_type": "code",
   "execution_count": null,
   "id": "c71d0fb9",
   "metadata": {},
   "outputs": [],
   "source": [
    "learn.fit_one_cycle(5, 1e-2)"
   ]
  },
  {
   "cell_type": "code",
   "execution_count": null,
   "id": "7b2769d6",
   "metadata": {},
   "outputs": [],
   "source": [
    "preds,targs = learn.get_preds()\n",
    "r_mse(preds,targs)"
   ]
  },
  {
   "cell_type": "code",
   "execution_count": null,
   "id": "5fbdb509",
   "metadata": {},
   "outputs": [],
   "source": [
    "learn.save('nn')"
   ]
  },
  {
   "cell_type": "code",
   "execution_count": null,
   "id": "4fd69cf5",
   "metadata": {},
   "outputs": [],
   "source": [
    "rf_preds = m.predict(valid_xs_time)\n",
    "ens_preds = (to_np(preds.squeeze()) + rf_preds) /2"
   ]
  },
  {
   "cell_type": "code",
   "execution_count": null,
   "id": "cb6e6d5d",
   "metadata": {},
   "outputs": [],
   "source": [
    "r_mse(ens_preds,valid_y)"
   ]
  }
 ],
 "metadata": {
  "kernelspec": {
   "display_name": "Python 3 (ipykernel)",
   "language": "python",
   "name": "python3"
  },
  "language_info": {
   "codemirror_mode": {
    "name": "ipython",
    "version": 3
   },
   "file_extension": ".py",
   "mimetype": "text/x-python",
   "name": "python",
   "nbconvert_exporter": "python",
   "pygments_lexer": "ipython3",
   "version": "3.8.9"
  },
  "toc": {
   "base_numbering": 1,
   "nav_menu": {},
   "number_sections": true,
   "sideBar": true,
   "skip_h1_title": false,
   "title_cell": "Table of Contents",
   "title_sidebar": "Contents",
   "toc_cell": false,
   "toc_position": {},
   "toc_section_display": true,
   "toc_window_display": true
  }
 },
 "nbformat": 4,
 "nbformat_minor": 5
}
